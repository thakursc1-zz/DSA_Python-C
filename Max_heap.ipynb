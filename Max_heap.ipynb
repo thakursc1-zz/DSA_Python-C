{
 "cells": [
  {
   "cell_type": "code",
   "execution_count": 145,
   "metadata": {},
   "outputs": [],
   "source": [
    "class Heap:\n",
    "    def __init__(self):\n",
    "        self.cap=10\n",
    "        self.size = 0\n",
    "        self.heap = []\n",
    "        \n",
    "    def pprint(self):\n",
    "        print(self.heap)\n",
    "        return \n",
    "    \n",
    "    def _getleftindex(self,curr):\n",
    "        return 2*curr+1\n",
    "    def _getrightindex(self,curr):\n",
    "        return 2*curr+2\n",
    "    def _getparent(self,curr):\n",
    "        return (curr-1)//2\n",
    "    \n",
    "    def _hasleft(self,curr):\n",
    "        return curr*2+1<self.size\n",
    "    def _hasright(self,curr):\n",
    "        return curr*2+2<self.size\n",
    "    def _hasparent(self,curr):\n",
    "        return (curr - 1)//2 >=0\n",
    "    \n",
    "    def _left(self,curr):\n",
    "        if self._getleftindex(curr):\n",
    "            return self.heap[self._getleftindex(curr)]\n",
    "        else:\n",
    "            return None \n",
    "    \n",
    "    def _right(self,curr):\n",
    "        if self._getrightindex(curr):\n",
    "            return(self.heap[self._getrightindex(curr)])\n",
    "        else:\n",
    "            return None \n",
    "        \n",
    "    def _parent(self,curr):\n",
    "        if self._hasparent(curr):\n",
    "            return(self.heap[self._getparent(curr)])\n",
    "        else:\n",
    "            return None \n",
    "    def _swap(self,index1,index2):\n",
    "        tmp = self.heap[index1]\n",
    "        self.heap[index1] = self.heap[index2]\n",
    "        self.heap[index2]= tmp\n",
    "        return \n",
    "    \n",
    "    def getmin(self):\n",
    "        if self.size>0:\n",
    "            return heap[0]\n",
    "        else:\n",
    "            retrun (\"Error self.size 0\")\n",
    "    def etmin(self):\n",
    "        if self.size>0:\n",
    "            its = self.heap[0]\n",
    "            self.heap[0] = self.heap[self.size-1]\n",
    "            self.size = self.size - 1\n",
    "            #print(\"Pehle\",self.heap)\n",
    "            self.heapdown()\n",
    "            return its\n",
    "        else:\n",
    "            return (\"Error heap empty\")\n",
    "        \n",
    "    def add(self,ele):\n",
    "        self.heap.append(ele)\n",
    "        #print(self.heap)\n",
    "        self.size = self.size + 1\n",
    "        if self.size>1:\n",
    "            self.heapup()\n",
    "        return \n",
    "    \n",
    "    def heapup(self):\n",
    "        index = self.size -1 \n",
    "        #print(self._parent(index),self.heap[index])\n",
    "        while(self._hasparent(index) and  self._parent(index)> self.heap[index]):\n",
    "            self._swap(index,self._getparent(index))\n",
    "            index = self._getparent(index)\n",
    "        return \n",
    "    \n",
    "    def heapdown(self):\n",
    "        index = 0\n",
    "        while(self._hasleft(index)):\n",
    "            small_child_index = self._getleftindex(index)\n",
    "            #print(self._right(index),self._left(index))\n",
    "            if self._hasright(index) and self._right(index)<self._left(index):\n",
    "                #print(\"entered\")\n",
    "                small_child_index = self._getrightindex(index)\n",
    "            if self.heap[small_child_index]>self.heap[index]:\n",
    "                break\n",
    "            else:\n",
    "                self._swap(small_child_index,index)\n",
    "            index = small_child_index\n",
    "        return \n",
    "    \n",
    "    \n",
    "        \n",
    "                \n",
    "            \n",
    "            "
   ]
  },
  {
   "cell_type": "code",
   "execution_count": 146,
   "metadata": {},
   "outputs": [],
   "source": [
    "h = Heap()\n"
   ]
  },
  {
   "cell_type": "code",
   "execution_count": 147,
   "metadata": {},
   "outputs": [
    {
     "name": "stdout",
     "output_type": "stream",
     "text": [
      "[]\n"
     ]
    }
   ],
   "source": [
    "h.pprint()"
   ]
  },
  {
   "cell_type": "code",
   "execution_count": 148,
   "metadata": {},
   "outputs": [
    {
     "name": "stdout",
     "output_type": "stream",
     "text": [
      "[10]\n",
      "[9, 10]\n",
      "[9, 10, 12]\n",
      "[9, 10, 12, 15]\n",
      "[9, 10, 12, 15, 20]\n",
      "[4, 10, 9, 15, 20, 12]\n"
     ]
    }
   ],
   "source": [
    "h.add(10)\n",
    "h.pprint()\n",
    "h.add(9)\n",
    "h.pprint()\n",
    "h.add(12)\n",
    "h.pprint()\n",
    "h.add(15)\n",
    "h.pprint()\n",
    "h.add(20)\n",
    "h.pprint()\n",
    "h.add(4)\n",
    "h.pprint()"
   ]
  },
  {
   "cell_type": "code",
   "execution_count": 149,
   "metadata": {},
   "outputs": [
    {
     "name": "stdout",
     "output_type": "stream",
     "text": [
      "4\n",
      "9\n",
      "10\n",
      "12\n",
      "15\n",
      "20\n",
      "Error heap empty\n",
      "Error heap empty\n",
      "Error heap empty\n",
      "Error heap empty\n",
      "Error heap empty\n"
     ]
    }
   ],
   "source": [
    "i  = 10\n",
    "while(i>=0 ):\n",
    "    print(h.etmin())\n",
    "    i = i -1"
   ]
  },
  {
   "cell_type": "code",
   "execution_count": null,
   "metadata": {},
   "outputs": [],
   "source": []
  },
  {
   "cell_type": "code",
   "execution_count": null,
   "metadata": {},
   "outputs": [],
   "source": []
  }
 ],
 "metadata": {
  "kernelspec": {
   "display_name": "Python 3",
   "language": "python",
   "name": "python3"
  },
  "language_info": {
   "codemirror_mode": {
    "name": "ipython",
    "version": 3
   },
   "file_extension": ".py",
   "mimetype": "text/x-python",
   "name": "python",
   "nbconvert_exporter": "python",
   "pygments_lexer": "ipython3",
   "version": "3.6.2"
  }
 },
 "nbformat": 4,
 "nbformat_minor": 2
}
