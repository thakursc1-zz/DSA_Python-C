{
 "cells": [
  {
   "cell_type": "code",
   "execution_count": 75,
   "metadata": {},
   "outputs": [],
   "source": [
    "class Node:\n",
    "    def __init__(self,val):\n",
    "        self.data = val\n",
    "        self.next = None \n",
    "\n",
    "class LinkedList:\n",
    "    def __init__(self):\n",
    "        self.head = None \n",
    "        self.elem = set()\n",
    "\n",
    "        \n",
    "    def pprint(self):\n",
    "        if self.head==None:\n",
    "            print(\"List Empty\")\n",
    "        else:\n",
    "            temp  =  self.head\n",
    "            while temp.next!=None:\n",
    "                print(temp.data,end=\",\")\n",
    "                temp  = temp.next\n",
    "            print(temp.data)\n",
    "        return \n",
    "        \n",
    "    def add(self, item):\n",
    "        #print(\"in here\")\n",
    "        if self.head==None:\n",
    "            self.head = Node(item)\n",
    "            #print(\"made a node\")\n",
    "        else:\n",
    "            temp  = self.head\n",
    "            while(temp.next!=None):\n",
    "                temp = temp.next \n",
    "            temp.next = Node(item)\n",
    "        return \n",
    "            \n",
    "        \n",
    "    def is_empty(self):\n",
    "        return self.head.next == None\n",
    "    def delete_node(self,item):\n",
    "        prev = None \n",
    "        temp = self.head\n",
    "        while(temp!=None):\n",
    "            if temp.data==item:\n",
    "                break\n",
    "            prev = temp \n",
    "            temp  =  temp.next\n",
    "        if temp==None:\n",
    "            return temp\n",
    "        if prev == None:\n",
    "            self.head  = temp.next\n",
    "            return self.head\n",
    "        else:\n",
    "            prev.next = temp.next\n",
    "            return prev.next\n",
    "def delete_dup(l):\n",
    "    temp = l.head\n",
    "    print(l.head.data)\n",
    "    dup = set()\n",
    "    prev = None\n",
    "    while(temp!=None):\n",
    "        if temp.data not in dup:\n",
    "            dup.add(temp.data)\n",
    "            print(list(dup))\n",
    "           # print(temp.data)\n",
    "            prev = temp\n",
    "            temp = temp.next\n",
    "        else:\n",
    "            print(\"Found Duplicate at\",temp.data)\n",
    "            prev.next  = temp.next\n",
    "            temp = temp.next\n",
    "    return l.pprint()\n",
    "def delete_dup2(l):\n",
    "    curr = l.head\n",
    "    while(curr.next!=None):\n",
    "        run = curr.next\n",
    "        prev = curr\n",
    "        while(run!=None):\n",
    "            if run.data == curr.data:\n",
    "                print(\"Found Duplicate at\",run.data)\n",
    "                prev.next = run.next\n",
    "                run = run.next \n",
    "            else:\n",
    "                prev = run\n",
    "                run = run.next\n",
    "        curr = curr.next\n",
    "    return l.pprint()\n",
    "\n",
    "def nthtolast(l,n):\n",
    "    curr = l.head\n",
    "    len_l = 0\n",
    "    while(curr!=None):\n",
    "        len_l = len_l + 1\n",
    "        curr = curr.next\n",
    "    #print(len_l)\n",
    "    if n==len_l:\n",
    "        return l.head.data\n",
    "    elif len_l>n:\n",
    "        off = len_l - n\n",
    "        #print(off)\n",
    "        curr = l.head\n",
    "        while(off!=0):\n",
    "            curr = curr.next\n",
    "            off = off -1\n",
    "        return curr.data\n",
    "    else:\n",
    "        return \"Invalid Argument n<length\"\n",
    "def add_l(l,k):\n",
    "    cl = l.head\n",
    "    ck = k.head\n",
    "    cn = LinkedList()\n",
    "    if(cl==None and ck!=None):\n",
    "        return ck\n",
    "    elif(ck==None and cl!=None):\n",
    "        return cl\n",
    "    elif(ck==None and cl==None):\n",
    "        return None \n",
    "    else:\n",
    "        carry = 0\n",
    "        while(cl!=None and ck!=None):\n",
    "            cn.add((cl.data+ck.data + carry)%10)\n",
    "            #print(\"Adding %s to the list \"%((cl.data+ck.data + carry)%10))\n",
    "            carry = int((cl.data+ck.data + carry)/10)\n",
    "            #print(\"Carry is \",carry)\n",
    "            cl = cl.next\n",
    "            ck = ck.next\n",
    "        \n",
    "        if(cl==None):\n",
    "            while(ck!=None):\n",
    "                cn.add((ck.data + carry)%10)\n",
    "                carry = int((ck.data + carry)/10)\n",
    "                \n",
    "                ck = ck.next\n",
    "        elif(ck==None):\n",
    "            while(cl!=None):\n",
    "                cn.add((cl.data + carry)%10)\n",
    "                carry = int((cl.data + carry)/10)\n",
    "                cl = cl.next\n",
    "        else:\n",
    "            pass\n",
    "        if carry>0:\n",
    "            cn.add(carry)\n",
    "        return cn           \n",
    "        \n",
    "            "
   ]
  },
  {
   "cell_type": "code",
   "execution_count": 76,
   "metadata": {},
   "outputs": [
    {
     "name": "stdout",
     "output_type": "stream",
     "text": [
      "3,4,2\n",
      "1,6,8,9,9,9,9\n",
      "4,0,1,0,0,0,0,1\n"
     ]
    }
   ],
   "source": [
    "l = LinkedList()\n",
    "l.add(3)\n",
    "l.add(4)\n",
    "l.add(2)\n",
    "l.pprint()\n",
    "\n",
    "k = LinkedList()\n",
    "k.add(1)\n",
    "k.add(6)\n",
    "k.add(8)\n",
    "k.add(9)\n",
    "k.add(9)\n",
    "k.add(9)\n",
    "k.add(9)\n",
    "k.pprint()\n",
    "add_l(l,k).pprint()"
   ]
  },
  {
   "cell_type": "code",
   "execution_count": 59,
   "metadata": {},
   "outputs": [
    {
     "name": "stdout",
     "output_type": "stream",
     "text": [
      "3,4,2,\n"
     ]
    }
   ],
   "source": [
    "delete_dup2(l)\n"
   ]
  },
  {
   "cell_type": "code",
   "execution_count": 50,
   "metadata": {},
   "outputs": [
    {
     "data": {
      "text/plain": [
       "2"
      ]
     },
     "execution_count": 50,
     "metadata": {},
     "output_type": "execute_result"
    }
   ],
   "source": [
    "nthtolast(l,3)"
   ]
  }
 ],
 "metadata": {
  "kernelspec": {
   "display_name": "Python 3",
   "language": "python",
   "name": "python3"
  },
  "language_info": {
   "codemirror_mode": {
    "name": "ipython",
    "version": 3
   },
   "file_extension": ".py",
   "mimetype": "text/x-python",
   "name": "python",
   "nbconvert_exporter": "python",
   "pygments_lexer": "ipython3",
   "version": "3.6.2"
  }
 },
 "nbformat": 4,
 "nbformat_minor": 2
}
