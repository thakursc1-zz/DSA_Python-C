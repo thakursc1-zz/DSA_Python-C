{
 "cells": [
  {
   "cell_type": "code",
   "execution_count": 115,
   "metadata": {},
   "outputs": [],
   "source": [
    "class Node:\n",
    "    def __init__(self,val):\n",
    "        self.data = val\n",
    "        self.next = None \n",
    "\n",
    "class LinkedList:\n",
    "    def __init__(self):\n",
    "        self.head = None \n",
    "        self.elem = set()\n",
    "\n",
    "        \n",
    "    def pprint(self):\n",
    "        if self.head==None:\n",
    "            print(\"List Empty\")\n",
    "        else:\n",
    "            temp  =  self.head\n",
    "            while temp!=None:\n",
    "                print(temp.data)\n",
    "                temp  = temp.next\n",
    "        return \n",
    "        \n",
    "    def add(self, item):\n",
    "        #print(\"in here\")\n",
    "        if self.head==None:\n",
    "            self.head = Node(item)\n",
    "            #print(\"made a node\")\n",
    "        else:\n",
    "            temp  = self.head\n",
    "            while(temp.next!=None):\n",
    "                temp = temp.next \n",
    "            temp.next = Node(item)\n",
    "        return \n",
    "            \n",
    "        \n",
    "    def is_empty(self):\n",
    "        return self.head.next == None\n",
    "    def delete_node(self,item):\n",
    "        prev = None \n",
    "        temp = self.head\n",
    "        while(temp!=None):\n",
    "            if temp.data==item:\n",
    "                break\n",
    "            prev = temp \n",
    "            temp  =  temp.next\n",
    "        if temp==None:\n",
    "            return temp\n",
    "        if prev == None:\n",
    "            self.head  = temp.next\n",
    "            return self.head\n",
    "        else:\n",
    "            prev.next = temp.next\n",
    "            return prev.next\n",
    "def delete_dup(l):\n",
    "    temp = l.head\n",
    "    print(l.head.data)\n",
    "    dup = set()\n",
    "    prev = None\n",
    "    while(temp!=None):\n",
    "        if temp.data not in dup:\n",
    "            dup.add(temp.data)\n",
    "            print(list(dup))\n",
    "           # print(temp.data)\n",
    "            prev = temp\n",
    "            temp = temp.next\n",
    "        else:\n",
    "            print(\"Found Duplicate at\",temp.data)\n",
    "            prev.next  = temp.next\n",
    "            temp = temp.next\n",
    "    return l.pprint()"
   ]
  },
  {
   "cell_type": "code",
   "execution_count": 121,
   "metadata": {},
   "outputs": [
    {
     "name": "stdout",
     "output_type": "stream",
     "text": [
      "3\n",
      "4\n",
      "2\n",
      "1\n",
      "1\n",
      "3\n",
      "5\n"
     ]
    }
   ],
   "source": [
    "l = LinkedList()\n",
    "l.add(3)\n",
    "l.add(4)\n",
    "l.add(2)\n",
    "l.add(1)\n",
    "l.add(1)\n",
    "l.add(3)\n",
    "l.add(5)\n",
    "\n",
    "\n",
    "l.pprint()"
   ]
  },
  {
   "cell_type": "code",
   "execution_count": 122,
   "metadata": {},
   "outputs": [
    {
     "name": "stdout",
     "output_type": "stream",
     "text": [
      "3\n",
      "[3]\n",
      "[3, 4]\n",
      "[2, 3, 4]\n",
      "[1, 2, 3, 4]\n",
      "Found Duplicate at 1\n",
      "Found Duplicate at 3\n",
      "[1, 2, 3, 4, 5]\n",
      "3\n",
      "4\n",
      "2\n",
      "1\n",
      "5\n"
     ]
    }
   ],
   "source": [
    "delete_dup(l)\n"
   ]
  },
  {
   "cell_type": "code",
   "execution_count": null,
   "metadata": {
    "collapsed": true
   },
   "outputs": [],
   "source": []
  }
 ],
 "metadata": {
  "kernelspec": {
   "display_name": "Python 3",
   "language": "python",
   "name": "python3"
  },
  "language_info": {
   "codemirror_mode": {
    "name": "ipython",
    "version": 3
   },
   "file_extension": ".py",
   "mimetype": "text/x-python",
   "name": "python",
   "nbconvert_exporter": "python",
   "pygments_lexer": "ipython3",
   "version": "3.6.1"
  }
 },
 "nbformat": 4,
 "nbformat_minor": 2
}
