{
 "cells": [
  {
   "cell_type": "markdown",
   "metadata": {},
   "source": [
    "### Array Lists \n",
    "    1. Property of Arrays lists is it dynamically doubles its size. Amorphous time is O(1)\n",
    "    2. Python has the object list to do so\n",
    "    3. Some of the operations of lists in Python:\n",
    "            1. list.extend(iteratable)\n",
    "            2. list.append(val)\n",
    "            3. list.insert(pos,val)\n",
    "            4. list.remove(val) Removes first occurence of the value \n",
    "            5. list.pop(pos) if pos= None then removes and return last element otherwise removes and returns element at pos \n",
    "            6. list.count(val) returns number of times x appears in the list \n",
    "            7. list.reverse()\n",
    "            8. list.copy()\n",
    "            9. list\n",
    "            10. list.index(x[, start[, end]])\n",
    "            11. list.count(x)\n",
    "            12 del list[0]\n",
    "            \n",
    "           "
   ]
  },
  {
   "cell_type": "markdown",
   "metadata": {},
   "source": [
    "### Using List as Stacks\n",
    "     1. stack.append()\n",
    "     2. stack.pop()\n",
    "     Where a stack is a list"
   ]
  },
  {
   "cell_type": "markdown",
   "metadata": {},
   "source": [
    "### Using List as queue\n",
    "    *Since queue of list is ineffecient and may incur O(n) time for operations like pop(0) and insert(a,val)\n",
    "    We use from collections import deque "
   ]
  },
  {
   "cell_type": "code",
   "execution_count": 6,
   "metadata": {},
   "outputs": [
    {
     "name": "stdout",
     "output_type": "stream",
     "text": [
      "lol\n",
      "deque(['piko', 'slopy', 'lolypop'])\n"
     ]
    }
   ],
   "source": [
    "from collections import deque \n",
    "\n",
    "q = deque(['lol','piko','slopy'])\n",
    "print(q.popleft()) \n",
    "q.append('lolypop')\n",
    "print(q)"
   ]
  },
  {
   "cell_type": "code",
   "execution_count": null,
   "metadata": {
    "collapsed": true
   },
   "outputs": [],
   "source": []
  }
 ],
 "metadata": {
  "kernelspec": {
   "display_name": "Python 3",
   "language": "python",
   "name": "python3"
  },
  "language_info": {
   "codemirror_mode": {
    "name": "ipython",
    "version": 3
   },
   "file_extension": ".py",
   "mimetype": "text/x-python",
   "name": "python",
   "nbconvert_exporter": "python",
   "pygments_lexer": "ipython3",
   "version": "3.6.1"
  }
 },
 "nbformat": 4,
 "nbformat_minor": 2
}
