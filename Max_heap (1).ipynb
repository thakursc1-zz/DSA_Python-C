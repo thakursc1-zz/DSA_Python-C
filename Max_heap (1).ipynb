{
 "cells": [
  {
   "cell_type": "code",
   "execution_count": 145,
   "metadata": {},
   "outputs": [],
   "source": [
    "class Heap:\n",
    "    def __init__(self):\n",
    "        self.cap=10\n",
    "        self.size = 0\n",
    "        self.heap = []\n",
    "        \n",
    "    def pprint(self):\n",
    "        print(self.heap)\n",
    "        return \n",
    "    \n",
    "    def _getleftindex(self,curr):\n",
    "        return 2*curr+1\n",
    "    def _getrightindex(self,curr):\n",
    "        return 2*curr+2\n",
    "    def _getparent(self,curr):\n",
    "        return (curr-1)//2\n",
    "    \n",
    "    def _hasleft(self,curr):\n",
    "        return curr*2+1<self.size\n",
    "    def _hasright(self,curr):\n",
    "        return curr*2+2<self.size\n",
    "    def _hasparent(self,curr):\n",
    "        return (curr - 1)//2 >=0\n",
    "    \n",
    "    def _left(self,curr):\n",
    "        if self._getleftindex(curr):\n",
    "            return self.heap[self._getleftindex(curr)]\n",
    "        else:\n",
    "            return None \n",
    "    \n",
    "    def _right(self,curr):\n",
    "        if self._getrightindex(curr):\n",
    "            return(self.heap[self._getrightindex(curr)])\n",
    "        else:\n",
    "            return None \n",
    "        \n",
    "    def _parent(self,curr):\n",
    "        if self._hasparent(curr):\n",
    "            return(self.heap[self._getparent(curr)])\n",
    "        else:\n",
    "            return None \n",
    "    def _swap(self,index1,index2):\n",
    "        tmp = self.heap[index1]\n",
    "        self.heap[index1] = self.heap[index2]\n",
    "        self.heap[index2]= tmp\n",
    "        return \n",
    "    \n",
    "    def getmin(self):\n",
    "        if self.size>0:\n",
    "            return heap[0]\n",
    "        else:\n",
    "            retrun (\"Error self.size 0\")\n",
    "    def etmin(self):\n",
    "        if self.size>0:\n",
    "            its = self.heap[0]\n",
    "            self.heap[0] = self.heap[self.size-1]\n",
    "            self.size = self.size - 1\n",
    "            #print(\"Pehle\",self.heap)\n",
    "            self.heapdown()\n",
    "            return its\n",
    "        else:\n",
    "            return (\"Error heap empty\")\n",
    "        \n",
    "    def add(self,ele):\n",
    "        self.heap.append(ele)\n",
    "        #print(self.heap)\n",
    "        self.size = self.size + 1\n",
    "        if self.size>1:\n",
    "            self.heapup()\n",
    "        return \n",
    "    \n",
    "    def heapup(self):\n",
    "        index = self.size -1 \n",
    "        #print(self._parent(index),self.heap[index])\n",
    "        while(self._hasparent(index) and  self._parent(index)> self.heap[index]):\n",
    "            self._swap(index,self._getparent(index))\n",
    "            index = self._getparent(index)\n",
    "        return \n",
    "    \n",
    "    def heapdown(self):\n",
    "        index = 0\n",
    "        while(self._hasleft(index)):\n",
    "            small_child_index = self._getleftindex(index)\n",
    "            #print(self._right(index),self._left(index))\n",
    "            if self._hasright(index) and self._right(index)<self._left(index):\n",
    "                #print(\"entered\")\n",
    "                small_child_index = self._getrightindex(index)\n",
    "            if self.heap[small_child_index]>self.heap[index]:\n",
    "                break\n",
    "            else:\n",
    "                self._swap(small_child_index,index)\n",
    "            index = small_child_index\n",
    "        return \n",
    "    \n",
    "    \n",
    "        \n",
    "                \n",
    "            \n",
    "            "
   ]
  },
  {
   "cell_type": "code",
   "execution_count": 146,
   "metadata": {},
   "outputs": [],
   "source": [
    "h = Heap()\n"
   ]
  },
  {
   "cell_type": "code",
   "execution_count": 147,
   "metadata": {},
   "outputs": [
    {
     "name": "stdout",
     "output_type": "stream",
     "text": [
      "[]\n"
     ]
    }
   ],
   "source": [
    "h.pprint()"
   ]
  },
  {
   "cell_type": "code",
   "execution_count": 148,
   "metadata": {},
   "outputs": [
    {
     "name": "stdout",
     "output_type": "stream",
     "text": [
      "[10]\n",
      "[9, 10]\n",
      "[9, 10, 12]\n",
      "[9, 10, 12, 15]\n",
      "[9, 10, 12, 15, 20]\n",
      "[4, 10, 9, 15, 20, 12]\n"
     ]
    }
   ],
   "source": [
    "h.add(10)\n",
    "h.pprint()\n",
    "h.add(9)\n",
    "h.pprint()\n",
    "h.add(12)\n",
    "h.pprint()\n",
    "h.add(15)\n",
    "h.pprint()\n",
    "h.add(20)\n",
    "h.pprint()\n",
    "h.add(4)\n",
    "h.pprint()"
   ]
  },
  {
   "cell_type": "code",
   "execution_count": 149,
   "metadata": {},
   "outputs": [
    {
     "name": "stdout",
     "output_type": "stream",
     "text": [
      "4\n",
      "9\n",
      "10\n",
      "12\n",
      "15\n",
      "20\n",
      "Error heap empty\n",
      "Error heap empty\n",
      "Error heap empty\n",
      "Error heap empty\n",
      "Error heap empty\n"
     ]
    }
   ],
   "source": [
    "i  = 10\n",
    "while(i>=0 ):\n",
    "    print(h.etmin())\n",
    "    i = i -1"
   ]
  },
  {
   "cell_type": "markdown",
   "metadata": {},
   "source": [
    "### Heap Priority Queue\n",
    "\n",
    "    1.heapq.heappush(heap, item)\n",
    "    Push the value item onto the heap, maintaining the heap invariantz\n",
    "    2. heapq.heappop(heap)\n",
    "    Pop and return the smallest item from the heap, maintaining the heap invariant. If the heap is empty, IndexError is raised. To access the smallest item without popping it, use heap[0].\n",
    "\n",
    "    3. heapq.heappushpop(heap, item)\n",
    "    Push item on the heap, then pop and return the smallest item from the heap. The combined action runs more efficiently than heappush() followed by a separate call to heappop().\n",
    "\n",
    "    4.heapq.heapify(x)\n",
    "    Transform list x into a heap, in-place, in linear time.\n",
    "\n",
    "    5. heapq.heapreplace(heap, item)\n",
    "    Pop and return the smallest item from the heap, and also push the new item. The heap size doesn’t change. If the heap is empty, IndexError is raised.\n",
    "\n",
    "\n",
    "    6. heapq.merge(*iterables, key=None, reverse=False)\n",
    "    Merge multiple sorted inputs into a single sorted output (for example, merge timestamped entries from multiple log files). Returns an iterator over the sorted values.\n",
    "\n",
    "    Similar to sorted(itertools.chain(*iterables)) but returns an iterable, does not pull the data into memory all at once, and assumes that each of the input streams is already sorted (smallest to largest). Has two optional arguments which must be specified as keyword arguments. key specifies a key function of one argument that is used to extract a comparison key from each input element. The default value is None (compare the elements directly).reverse is a boolean value. If set to True, then the input elements are merged as if each comparison were reversed.Changed in version 3.5: Added the optional key and reverse parameters.\n",
    "\n",
    "    7. heapq.nlargest(n, iterable, key=None)\n",
    "    Return a list with the n largest elements from the dataset defined by iterable. key, if provided, specifies a function of one argument that is used to extract a comparison key from each element in the iterable: key=str.lower Equivalent to: sorted(iterable, key=key, reverse=True)[:n]\n",
    "\n",
    "    8. heapq.nsmallest(n, iterable, key=None)\n",
    "    Return a list with the n smallest elements from the dataset defined by iterable. key, if provided, specifies a function of one argument that is used to extract a comparison key from each element in the iterable: key=str.lower Equivalent to: sorted(iterable, key=key)[:n]\n",
    "\n"
   ]
  },
  {
   "cell_type": "code",
   "execution_count": 3,
   "metadata": {},
   "outputs": [],
   "source": [
    "#Python Min/Max heap implementation from lib\n",
    "import heapq\n",
    "\n",
    "h = []\n",
    "heapq.heappush(h,-5)\n",
    "heapq.heappush(h,-2)\n",
    "heapq.heappush(h,-3)\n",
    "heapq.heappush(h,-9)\n",
    "heapq.heappush(h,-11)"
   ]
  },
  {
   "cell_type": "code",
   "execution_count": 4,
   "metadata": {},
   "outputs": [
    {
     "data": {
      "text/plain": [
       "[-11, -9, -3, -2, -5]"
      ]
     },
     "execution_count": 4,
     "metadata": {},
     "output_type": "execute_result"
    }
   ],
   "source": [
    "h"
   ]
  }
 ],
 "metadata": {
  "kernelspec": {
   "display_name": "Python 3",
   "language": "python",
   "name": "python3"
  },
  "language_info": {
   "codemirror_mode": {
    "name": "ipython",
    "version": 3
   },
   "file_extension": ".py",
   "mimetype": "text/x-python",
   "name": "python",
   "nbconvert_exporter": "python",
   "pygments_lexer": "ipython3",
   "version": "3.6.2"
  }
 },
 "nbformat": 4,
 "nbformat_minor": 2
}
