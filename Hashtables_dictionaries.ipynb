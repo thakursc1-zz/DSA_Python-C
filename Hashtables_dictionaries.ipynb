{
 "cells": [
  {
   "cell_type": "markdown",
   "metadata": {},
   "source": [
    "### Hashset implementation python (Dictionaries)\n",
    "    1.Key values are only hashable values and immmutable like tuples integers,strings. Mutable datat types cannot be keys but can be values of the dictionary \n",
    "    2.Any of the folowing implementations can be used \n",
    "    3. Operations:\n",
    "        1.del d[key]\n",
    "        2.key in d/ key not in d\n",
    "        3. iter(d) / iter(d.keys())\n",
    "        4.clear(d) ---> remove all items \n",
    "        5.copy(d) ---> makes a shallow copy\n",
    "        6. d.items(), d.keys(), d.values() ---> Generates view on the respective objects. \n",
    "        7. View Cahnges if dcitionary Changes \n",
    "        8. pop(key) remove and return item on key \n",
    "        9. popitem() remove and return arbitrary item \n",
    "        10. Set Default--->Set default values for keys \n",
    "        11. Looping : for i,j in d.items():"
   ]
  },
  {
   "cell_type": "code",
   "execution_count": 6,
   "metadata": {
    "collapsed": true
   },
   "outputs": [],
   "source": [
    "a = dict(one=1, two=2, three=3)\n",
    "b = {'one': 1, 'two': 2, 'three': 3}\n",
    "c = dict(zip(['one', 'two', 'three'], [1, 2, 3]))\n",
    "d = dict([('two', 2), ('one', 1), ('three', 3)])\n",
    "e = dict({'three': 3, 'one': 1, 'two': 2})"
   ]
  },
  {
   "cell_type": "code",
   "execution_count": 7,
   "metadata": {},
   "outputs": [
    {
     "data": {
      "text/plain": [
       "dict_keys(['one', 'two', 'three'])"
      ]
     },
     "execution_count": 7,
     "metadata": {},
     "output_type": "execute_result"
    }
   ],
   "source": [
    "a.keys()"
   ]
  },
  {
   "cell_type": "code",
   "execution_count": null,
   "metadata": {
    "collapsed": true
   },
   "outputs": [],
   "source": []
  }
 ],
 "metadata": {
  "kernelspec": {
   "display_name": "Python 3",
   "language": "python",
   "name": "python3"
  },
  "language_info": {
   "codemirror_mode": {
    "name": "ipython",
    "version": 3
   },
   "file_extension": ".py",
   "mimetype": "text/x-python",
   "name": "python",
   "nbconvert_exporter": "python",
   "pygments_lexer": "ipython3",
   "version": "3.6.1"
  }
 },
 "nbformat": 4,
 "nbformat_minor": 2
}
